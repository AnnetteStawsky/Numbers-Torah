{
 "cells": [
  {
   "cell_type": "markdown",
   "metadata": {},
   "source": [
    "# Bereshit"
   ]
  },
  {
   "cell_type": "code",
   "execution_count": 6,
   "metadata": {},
   "outputs": [],
   "source": [
    "Bereshit = [1,2, 1, 3, 2, 4, 5, 6, 7, 7, 4, 1, 2, 3, 4, 1, 2, 2, 7, 2, 1, 2, 7, 77, 130, 800, 930, 105, 807, 912, 90, 815, 905, 70, 840, 910, 65, 830, 895, 162, 800, 962, 65, 300, 365, 187, 782, 969, 182, 595, 777, 500, 120]"
   ]
  },
  {
   "cell_type": "code",
   "execution_count": 5,
   "metadata": {},
   "outputs": [],
   "source": [
    "Noah = [7, 7, 2, 7, 7, 7, 40, 40, 600, 2, 2, 7, 600, 2, 17, 40, 40, 3, 2, 2, 40, 15, 150, 150, 7, 17, 10, 10, 1, 40, 7, 7, 601, 1, 1, 2, 27, 3, 350, 950, 2, 1, 1, 1, 1, 1, 100, 2, 500, 35, 403, 30, 403, 34, 430, 30, 209, 32, 207, 30, 200, 29, 119, 70, 205]"
   ]
  },
  {
   "cell_type": "code",
   "execution_count": 7,
   "metadata": {},
   "outputs": [],
   "source": [
    "LechLecha = [1, 1, 1, 1, 100, 2, 500, 35, 403, 30, 403, 34, 430, 30, 209, 32, 207, 30, 200, 29, 119, 70, 205]"
   ]
  },
  {
   "cell_type": "code",
   "execution_count": 8,
   "metadata": {},
   "outputs": [],
   "source": [
    "Vayeira = [3, 3, 50, 50, 50, 50, 5, 5, 45, 40, 40, 30, 30, 20, 20, 10, 10, 2, 2, 2, 2, 2, 2, 2, 1000, 8, 100, 1, 2, 7, 7, 7, 2, 1, 2, 3, 2, 2, 2, 8]"
   ]
  },
  {
   "cell_type": "code",
   "execution_count": 9,
   "metadata": {},
   "outputs": [],
   "source": [
    "ChayeiSarah = [127, 400, 400, 10, 2, 10, 10, 175, 12, 137]"
   ]
  },
  {
   "cell_type": "code",
   "execution_count": 10,
   "metadata": {},
   "outputs": [],
   "source": [
    "Toldot = [40, 2, 2, 60, 100, 40, 2, 2, 1]"
   ]
  },
  {
   "cell_type": "code",
   "execution_count": 11,
   "metadata": {},
   "outputs": [],
   "source": [
    "Vayeitzei = [3, 2, 7, 7, 7, 7, 3, 2, 2, 5, 6, 6, 3, 10, 3, 7, 2, 2, 20, 20, 14, 2, 6, 10]"
   ]
  },
  {
   "cell_type": "code",
   "execution_count": 12,
   "metadata": {},
   "outputs": [],
   "source": [
    "Vayishlach = [400, 2, 2, 200, 20, 200, 20, 30, 40, 10, 20, 10, 2, 3, 2, 2, 11, 400, 2, 7, 1, 100, 1, 1, 3, 2, 12, 4, 180]"
   ]
  },
  {
   "cell_type": "code",
   "execution_count": 13,
   "metadata": {},
   "outputs": [],
   "source": [
    "Vayeshev = [17, 11, 20, 2, 2, 3, 3, 3, 3, 3, 3, 3, 3, 3]"
   ]
  },
  {
   "cell_type": "code",
   "execution_count": 14,
   "metadata": {},
   "outputs": [],
   "source": [
    "Miketz = [7, 7, 7, 2, 7, 1, 7, 7, 1, 7, 7, 7, 7, 7, 7, 1, 7, 7, 7, 7, 1, 7, 7, 7, 7, 7, 7, 7, 7, 30, 7, 7, 2, 2, 7, 7, 1, 12, 1, 1, 1, 3, 3, 1, 1, 12, 1, 1, 1, 2]"
   ]
  },
  {
   "cell_type": "code",
   "execution_count": 19,
   "metadata": {},
   "outputs": [],
   "source": [
    "Vayigash = [2, 1, 5, 5, 300, 5, 10, 10, 33, 16, 14, 7, 2, 66, 2, 70, 130, 2, 1/5, 4, 1/5]"
   ]
  },
  {
   "cell_type": "code",
   "execution_count": 20,
   "metadata": {},
   "outputs": [],
   "source": [
    "Vayechi = [17, 147, 2, 2, 2, 1, 1, 12, 40, 70, 7, 110, 3, 110]"
   ]
  },
  {
   "cell_type": "markdown",
   "metadata": {},
   "source": [
    "# Shemot"
   ]
  },
  {
   "cell_type": "code",
   "execution_count": 21,
   "metadata": {},
   "outputs": [],
   "source": [
    "Shemot = [70, 1, 2, 3, 2, 2, 7, 3, 2, 3]"
   ]
  },
  {
   "cell_type": "code",
   "execution_count": 22,
   "metadata": {},
   "outputs": [],
   "source": [
    "Vayeira = [137, 133, 137, 80, 83, 7, 3, 1, 1, 1]"
   ]
  },
  {
   "cell_type": "code",
   "execution_count": 23,
   "metadata": {},
   "outputs": [],
   "source": [
    "Bo = [1, 3, 3, 1, 10, 14, 2, 7, 7, 7, 14, 21, 7, 2, 2, 600000, 430, 430, 1, 1, 7, 7, 7]"
   ]
  },
  {
   "cell_type": "code",
   "execution_count": 24,
   "metadata": {},
   "outputs": [],
   "source": [
    "Beshlach = [600, 1, 3, 12, 70, 15, 2, 6, 6, 2, 1, 6, 7, 7, 6, 7, 7, 1, 1]"
   ]
  },
  {
   "cell_type": "code",
   "execution_count": 25,
   "metadata": {},
   "outputs": [],
   "source": [
    "Yitro = [2, 1, 1, 2, 1000, 100, 50, 10, 1000, 100, 50, 10, 3, 3, 3, 3, 3]"
   ]
  },
  {
   "cell_type": "code",
   "execution_count": 26,
   "metadata": {},
   "outputs": [],
   "source": [
    "Mishpatim = [6, 7, 3, 30, 5, 2, 2, 2, 2, 2, 7, 8, 6, 7, 6, 7, 3, 7, 3, 70, 1, 12, 12, .5, .5, 70, 6, 7, 40, 40]"
   ]
  },
  {
   "cell_type": "code",
   "execution_count": 27,
   "metadata": {},
   "outputs": [],
   "source": [
    "Terumah = [.5, .5, .5, 4, 4, 2, 1, 2, 2, .5, .5, 2, 2, 1, 1, 2, 2, .5, 4, 4, 4, 6, 3, 1, 3, 2, 3, 1, 3, 1, 6, 4, 2, 2, 2, 6, 1, 7, 1, 28, 4, 1, 1, 5, 5, 1, 2, 50, 1, 50, 2, 50, 1, 11, 30, 4, 1, 1, 11, 5, 6, 6, 50, 1, 50, 2, 50, 1, .5, 10, .5, 1, 2, 1, 20, 40, 20, 2, 1, 2, 2, 1, 2, 2, 20, 40, 2, 1, 2, 1, 6, 2, 1, 2, 2, 8, 16, 2, 1, 2, 1, 5, 1, 5, 2, 5, 4, 4, 5, 5, 5, 5, 3, 4, 4, 4, .5, 2, 100, 1, 20, 20, 100, 20, 20, 50, 10, 10, 50, 15, 3, 3, 2, 15, 3, 3, 20, 4, 4, 100, 50, 4]"
   ]
  },
  {
   "cell_type": "code",
   "execution_count": 28,
   "metadata": {},
   "outputs": [],
   "source": [
    "Tetzaveh = [2, 2, 2, 6, 1, 6, 2, 2, 2, 2, 2, 4, 2, 3, 4, 12, 12, 2, 2, 2, 2, 2, 2, 2, 2, 2, 2, 2, 2, 1, 2, 2, 1, 2, 2, 1, 1, 1, 7, 7, 7, 2, 1, 2, .1, .25, .25, 1, 2, 2, 2, 2, 1, 1]"
   ]
  },
  {
   "cell_type": "code",
   "execution_count": 29,
   "metadata": {},
   "outputs": [],
   "source": [
    "KiTissa = [.5, 20, .5, 20, .5, 500, .5, 50, 50, 500, 6, 7, 6, 7, 2, 2, 3000, 1, 2, 2, 2, 1000, 3, 4, 7, 6, 7, 3, 40, 40, 10, 2]"
   ]
  },
  {
   "cell_type": "code",
   "execution_count": 30,
   "metadata": {},
   "outputs": [],
   "source": [
    "Vayakhel = [6, 7, 10, 1, 28, 1, 4, 5, 1, 1, 5, 1, 1, 1, 2, 50, 1, 50, 2, 1, 1, 50, 1, 1, 1, 11, 1, 30, 4, 1, 11, 5, 6, 50, 50, 2, 50, 1, 10, .5, 1, 2, 1, 1, 1, 20, 40, 20, 2, 1, 2, 2, 1, 2, 2, 20, 40, 2, 1, 2, 1, 6, 2, 1, 2, 2, 8, 16, 2, 1, 5, 1, 5, 2, 5, 4, 4, 5, 5, .5, .5, .5, 4, 4, 2, 1, 2, 2, .5, .5, 2, 2, 1, 1, 2, .5, 4, 4, 4, 6, 3, 1, 3, 2, 3, 1, 3, 1, 6, 4, 2, 2, 6, 1, 7, 2, 2, 2, 5, 5, 3, 4, 4, 4, 100, 20, 20, 100, 20, 20, 50, 10, 10, 50, 15, 3, 3, 2, 15, 3, 3, 20, 5, 4, 4]"
   ]
  },
  {
   "cell_type": "code",
   "execution_count": 31,
   "metadata": {},
   "outputs": [],
   "source": [
    "Pikudei = [29, 730, 100, 1775, .5, 20, 603550, 100, 100, 100, 1775, 70, 2400, 2, 4, 1, 2, 3, 4, 12, 12, 2, 2, 2, 2, 2, 2, 2, 2, 2, 2, 2, 2, 2, 1, 2, 1]"
   ]
  },
  {
   "cell_type": "markdown",
   "metadata": {},
   "source": [
    "# Vayikra"
   ]
  },
  {
   "cell_type": "code",
   "execution_count": 32,
   "metadata": {},
   "outputs": [],
   "source": [
    "Vayikra = [2, 2, 2, 1, 7, 2, 1, 7, 1, 1, 1, 1, 1, 2, 2, 1, 1, 2, 2, 2, .1, 1, 1, 1, .2, 1]"
   ]
  },
  {
   "cell_type": "code",
   "execution_count": 33,
   "metadata": {},
   "outputs": [],
   "source": [
    "Tzav = [.1, .5, .5, 2, 1, 1, 3, 3, 2, 7, 2, 2, 2, 1, 1, 1, 7, 7, 7]"
   ]
  },
  {
   "cell_type": "code",
   "execution_count": 36,
   "metadata": {},
   "outputs": [],
   "source": [
    "Shemini = [8, 4, 4, 4, 4, 4]"
   ]
  },
  {
   "cell_type": "code",
   "execution_count": 37,
   "metadata": {},
   "outputs": [],
   "source": [
    "Tazria = [7, 8, 33, 66, 2, 2, 1, 1, 1, 7, 7, 7, 2, 7, 2, 2, 7, 7, 7, 7, 7, 7, 2, 7, 7, 7, 7, 2, 2]"
   ]
  },
  {
   "cell_type": "code",
   "execution_count": 38,
   "metadata": {},
   "outputs": [],
   "source": [
    "Metzora = [2, 1, 7, 7, 7, 8, 2, 1, .3, 1, 1, 7, 1, .1, 1, 2, 2, 1, 1, 8, 7, 1, 1, 1, 7, 7, 2, 1, 7, 7, 8, 2, 2, 1, 1, 7, 7, 7, 8, 2, 2, 1, 1]"
   ]
  },
  {
   "cell_type": "code",
   "execution_count": 39,
   "metadata": {},
   "outputs": [],
   "source": [
    "AchareiMot = [2, 2, 1, 2, 2, 1, 1, 7, 7, 2, 7, 10, 1]"
   ]
  },
  {
   "cell_type": "code",
   "execution_count": 40,
   "metadata": {},
   "outputs": [],
   "source": [
    "Kedoshim = [3, 3, 3, 4, 5, 2, 2, 2, 2]"
   ]
  },
  {
   "cell_type": "code",
   "execution_count": 41,
   "metadata": {},
   "outputs": [],
   "source": [
    "Emor = [.2, 7, 8, 1, 6, 7, 14, 15, 7, 7, 7, .2, .25, 7, 7, 50, 2, .2, 7, 1, 2, 1, 2, 2, 7, 1, 10, 7, 9, 15, 7, 7, 7, 8, 15, 7, 7, 8, 7, 7, 7, 7, 12, .2, 1, 2, 6, 1]"
   ]
  },
  {
   "cell_type": "code",
   "execution_count": 42,
   "metadata": {},
   "outputs": [],
   "source": [
    "Behar = [6, 6, 7, 7, 7, 7, 7, 49, 7, 10, 50, 50, 7, 6, 3, 8, 9, 1]"
   ]
  },
  {
   "cell_type": "code",
   "execution_count": null,
   "metadata": {},
   "outputs": [],
   "source": [
    "Behukotai = []"
   ]
  },
  {
   "cell_type": "markdown",
   "metadata": {},
   "source": [
    "# Bamidbar"
   ]
  },
  {
   "cell_type": "code",
   "execution_count": null,
   "metadata": {},
   "outputs": [],
   "source": [
    "Bamidbar = []"
   ]
  },
  {
   "cell_type": "markdown",
   "metadata": {},
   "source": [
    "# Devarim"
   ]
  },
  {
   "cell_type": "code",
   "execution_count": null,
   "metadata": {},
   "outputs": [],
   "source": [
    "Devarim = []"
   ]
  },
  {
   "cell_type": "markdown",
   "metadata": {},
   "source": [
    "# Bereshit Descriptions"
   ]
  },
  {
   "cell_type": "code",
   "execution_count": 44,
   "metadata": {},
   "outputs": [],
   "source": [
    "Bereshit_Descriptions = [\"1 one day\",\n",
    "\"2 second day\",\n",
    "\"1 one place (makom)\",\n",
    "\"3 third day\", \n",
    "\"2 great lights\",\n",
    "\"4 fourth day\",\n",
    "\"5 fifth day\", \n",
    "\"6 sixth day\",\n",
    "\"7th day - finished work\",\n",
    "\"4 branches\",\n",
    "\"1st river pishon\",\n",
    "\"2nd river gihon\",\n",
    "\"3rd river tigris\",\n",
    "\"4th euphrates\",\n",
    "\"1 flesh\",\n",
    "\"2 of them naked\",\n",
    "\"2? shneihem realized naked\",\n",
    "\"7fold vengeance if kill cain\",\n",
    "\"2 wives of lamach\",\n",
    "\"1st wife adah\",\n",
    "\"2nd wife zillah\",\n",
    "\"7 if cain avenged 7fold\",\n",
    "\"77 lamech 77fold\",\n",
    "\"130 adam before seth\",\n",
    "\"800 adam after seth\",\n",
    "\"930 years adams life\",\n",
    "\"105 seth before enosh\",\n",
    "\"807 seth after enosh \",\n",
    "\"912 seth lifespan\",\n",
    "\"90 enosh before kenan\",\n",
    "\"815 enosh after kenan\",\n",
    "\"905 enosh lifespan\",\n",
    "\"70 kenan before mehalalel\",\n",
    "\"840 kenan after mehalalel\",\n",
    "\"910 kenan lifespan\",\n",
    "\"65 mehalalel pre jared\",\n",
    "\"830 mehalalel after jared\",\n",
    "\"895 mehalalel lifespan\",\n",
    "\"162 jared pre enoch\",\n",
    "\"800 jared post enoch\",\n",
    "\"962 jared lifespan\",\n",
    "\"65 enoch pre methuselah\",\n",
    "\"300 enoch walked with God\",\n",
    "\"365 enoch days\",\n",
    "\"187 methuselah pre lamech\",\n",
    "\"782 methuselah post lamech\",\n",
    "\"969 methuselah\",\n",
    "\"182 lamech had son\",\n",
    "\"595 lamech after noah\",\n",
    "\"777 lamech lifespan\",\n",
    "\"500 when noah had shem, ham, and japheth\",\n",
    "\"120 limit man years\"]"
   ]
  },
  {
   "cell_type": "code",
   "execution_count": 45,
   "metadata": {},
   "outputs": [],
   "source": [
    "Noach_Descriptions = [\"7 and 7 each animal w its mate\",\n",
    "\"2 of animals that are not clean\",\n",
    "\"7 7 of the birds also \",\n",
    "\"7 days until Hashem made it rain\",\n",
    "\"40 days and 40 nights rain\",\n",
    "\"600 age noah when flood\",\n",
    "\"2 and 2 went into ark as hashem commanded\",\n",
    "\"7 days later the flood started\",\n",
    "\"600 year of noah's life 2nd month 17th day when flood started\",\n",
    "\"40 days and 40 nights of rain on earth\",\n",
    "\"3 wives of noah's sons entered\",\n",
    "\"2 and 2 went in\",\n",
    "\"40 days of flood\",\n",
    "\"15 amas the waters raised\",\n",
    "\"150 days of water on earth\",\n",
    "\"after 150 days the waters stopped\",\n",
    "\"7th month 17th day of month ark rested\",\n",
    "\"waters decreased until 10th month\",\n",
    "\"10th month 1st day tops of mountain seen\",\n",
    "\"40 days later noah opened window\",\n",
    "\"7 more days later sent dove again\",\n",
    "\"7 more days and sent dove again didnt return\",\n",
    "\"601 year 1st month 1st day the waters dried\",\n",
    "\"2nd month 27th day earth was dry\",\n",
    "\"3 sons of noah that repopulated earth\",\n",
    "\"350 noah after flood\",\n",
    "\"950 noah lifespan\",\n",
    "\"2 sons born to Eber 1st was Peleg\",\n",
    "\"1 language (same) and 1 (same) words\",\n",
    "\"1 ppl with 1 language act this way (tower)\",\n",
    "\"100 shem when arpachshad born 2 years after flood\",\n",
    "\"500 years shem after Arpachshad\",\n",
    "\"35 when Arpachshad begot Shelah\",\n",
    "\"403 Arpachshad after Shelah\",\n",
    "\"30 when Shelah begot Eber\",\n",
    "\"403 Shelah after Eber\",\n",
    "\"34 Eber begot Peleg\",\n",
    "\"430 Eber after Peleg\",\n",
    "\"30 Peleg begot Reu\",\n",
    "\"209 Peleg after Reu\",\n",
    "\"32 Reu begot Serug\",\n",
    "\"207 Reu after Serug\",\n",
    "\"30 Serug begot Nahor\",\n",
    "\"200 Serug after Nahor\",\n",
    "\"29 Nahor before Terah\",\n",
    "\"119 Nahor after Terah\",\n",
    "\"70 Terah begot Abram, Nahor, and Haran\",\n",
    "\"205 days of Terah, died in Haran\"]"
   ]
  },
  {
   "cell_type": "code",
   "execution_count": 46,
   "metadata": {},
   "outputs": [],
   "source": [
    "LechLecha_Descriptions = [\"75 Abram left Haran\",    \n",
    "\"(rishonah)*add if i accept, altar\",\n",
    "\"12 years served chedorlaomer, 13th year rebelled\",\n",
    "\"14th year ched.. defeated the rephaim\",\n",
    "\"4 kings against those 5\",\n",
    "\"318 with Abram went in pursuit\",\n",
    "\"3yo heifer, 3yo she-goat, 3yo ram\",\n",
    "\"400 years enslaved/oppressed Hashem told Abram\",\n",
    "\"4th generation return\",\n",
    "\"10 years in cannan then Hagar\",\n",
    "\"86 yo when Ishmael was born to Abram\",\n",
    "\"99yo Abram when Hashem says to walk with him\",\n",
    "\"8 days then circumcise\",\n",
    "\"100yo Abraham 90yo Sarah child?\",\n",
    "\"12 chieftains Ishmael\",\n",
    "\"99yo Abraham when circumcised, Ishmael 13\"]"
   ]
  },
  {
   "cell_type": "code",
   "execution_count": 47,
   "metadata": {},
   "outputs": [],
   "source": [
    "Vayeira_Descriptions = [\"3 men standing\",\n",
    "\"3 seahs of flour\",\n",
    "\"50 tzaddikim, forgive for the sake of 50\",\n",
    "\"50 found then Sodom forgiven\",\n",
    "\"50 lack 5, destroy for want of 5? If 45 no\",\n",
    "\"40 found? not for sake of 40\",\n",
    "\"30 found? not for the sake of 30\",\n",
    "\"20? not for sake of 20\",\n",
    "\"10? not for sake of 10\",\n",
    "\"2 angels came to Sodom\",\n",
    "\"2 daughters of Lot instead\",\n",
    "\"2 daughters take and lets go\",\n",
    "\"2 daughters got their hand\",\n",
    "\"2 daughters settled, with 2 daughters in cave\",\n",
    "\"2 daughters came to be with child\",\n",
    "\"1000 pieces of silver vindication\",\n",
    "\"8 days old when Issac circumcised\",\n",
    "\"100 yo Abraham when Isaac born\",\n",
    "\"(7?) Beer sheva\",\n",
    "\"1 of the bushes hagar left child\",\n",
    "\"2 (shneichem) Abraham and Abimelech pact\",\n",
    "\"7 ewes set by Abraham\",\n",
    "\"7 what do these ewes mean - Abimelech\",\n",
    "\"7 ewes accept as proof I dug well - Abraham\",\n",
    "\"(7?) Beer Sheva\",\n",
    "\"2 of them swore an oath\",\n",
    "\"(7?) Beer Sheva - two more times\",\n",
    "\"1 of the mountains - akeida\",\n",
    "\"2 of his servants\",\n",
    "\"3rd day Abraham looked up saw place from afar\",\n",
    "\"2 of them walked off together\",\n",
    "\"2 of them walked on together\",\n",
    "\"2nd time angel of hashem called to Abraham\",\n",
    "\"(7?) Beer Sheva - two more times\",\n",
    "\"8 Milcah bore to Nahor\"]"
   ]
  },
  {
   "cell_type": "code",
   "execution_count": 48,
   "metadata": {},
   "outputs": [],
   "source": [
    "ChayeiSarah_Descriptions = [\"127 lifespan of Sarah\",    \n",
    "\"(4?? kriath arba)\",\n",
    "\"400 shekels of silver\",\n",
    "\"400 shekels of silver\",\n",
    "\"10 camels\",\n",
    "\"2 gold bands, 10 shekels in weight\",\n",
    "\"10 days stay\",\n",
    "\"175 years Abraham's life\",\n",
    "\"12 chieftains sons of Ishmael\",\n",
    "\"137 years Ishmael's life\"]"
   ]
  },
  {
   "cell_type": "code",
   "execution_count": 49,
   "metadata": {},
   "outputs": [],
   "source": [
    "Toldot_Descriptions = [\"40yo Isaac married Rebekah\",\n",
    "\"2 nations 2 people\",\n",
    "\"60yo Isaac when Esav and Jacob born\",\n",
    "\"100fold (mea shearim)\",\n",
    "\"(7?) Beer Sheva\",\n",
    "\"40yo Esav married Judith\",\n",
    "\"(7?) Beer Sheva\",\n",
    "\"2 choice kids Rivka told Jacob\",\n",
    "\"2 of your in 1 day (Jacob flee)\"]"
   ]
  },
  {
   "cell_type": "code",
   "execution_count": 50,
   "metadata": {},
   "outputs": [],
   "source": [
    "Vayeitzei_Descriptions = [\"(7?) Beer Sheva\",\n",
    "\"3 flocks of sheep\",\n",
    "\"2 daughters laban had\",\n",
    "\"7 years for Rachel\",\n",
    "\"7 years Jacob served\",\n",
    "\"7 more years for Rachel\",\n",
    "\"7 years served\",\n",
    "\"3 sons Leah bore Jacob\",\n",
    "\"2nd son from Bilhah\",\n",
    "\"2nd son from Zilpah\",\n",
    "\"5th son from Leah\",\n",
    "\"6th son from Leah\",\n",
    "\"6 sons - husband will exalt me\",\n",
    "\"3 days journey btw flocks\",\n",
    "\"10 times Laban changed wages\",\n",
    "\"3rd day laban told that Jacob fled\",\n",
    "\"7 days pursued him\",\n",
    "\"2 maidservants tents, Laban checked\",\n",
    "\"2 shneinu. kinsmen decide between us\",\n",
    "\"20 years in Labans service\",\n",
    "\"20 yeahs in your household\",\n",
    "\"14 years for 2 daughters\",\n",
    "\"6 years for your flocks\",\n",
    "\"10 times changed wages (time and again)\"]"
   ]
  },
  {
   "cell_type": "code",
   "execution_count": 51,
   "metadata": {},
   "outputs": [],
   "source": [
    "Vayishlach_Descriptions = [\"400 men with him\",\n",
    "\"2 camps split into\",\n",
    "\"2 camps become, talking to hashem\",\n",
    "\"200 she goats, 20 he goats\",\n",
    "\"200 ewes, 20 rams\",\n",
    "\"30 milch camels\",\n",
    "\"40 cows, 10 bulls\",\n",
    "\"20 she-asses and 10 he-asses\",\n",
    "\"2nd and 3rd same instructions\",\n",
    "\"2 wives, 2 maidservants, and 11 children Jabbok\",\n",
    "\"400 men with Esav coming\",\n",
    "\"2 maids, divided children\",\n",
    "\"7 times bowed until near brother\",\n",
    "\"1 day driven hard flocks will die\",\n",
    "\"100 kesitahs land in shechem\",\n",
    "\"1 kindred with shechem if circumcised\",\n",
    "\"1 condition- shechem speaking to public\",\n",
    "\"3rd day 2 of jacobs sons\",\n",
    "\"12 sons\",\n",
    "\"4 kriath-arba (?)\",\n",
    "\"180you Isaac\"]"
   ]
  },
  {
   "cell_type": "code",
   "execution_count": 52,
   "metadata": {},
   "outputs": [],
   "source": [
    "Vayeshev_Descriptions = [\"17 joseph\",\n",
    "\"11 stars bow\",\n",
    "\"20 pieces of silver to Ishmaelites\",\n",
    "\"2 courtiers- pharaoh angry with them\",\n",
    "\"2 (both of them) dreamed\",\n",
    "\"3 branches\",\n",
    "\"3 branches are 3 days\",\n",
    "\"3 days pharaoh will pardon you\",\n",
    "\"3 openwork baskets\",\n",
    "\"3 baskets are 3 days\",\n",
    "\"3 days Pharaoh will lift head off\",\n",
    "\"3rd day - his birthday\"]"
   ]
  },
  {
   "cell_type": "code",
   "execution_count": 53,
   "metadata": {},
   "outputs": [],
   "source": [
    "Miketz_Descriptions = [\"Shnataim??\",\n",
    "\"7 cows, 7 other cows\",\n",
    "\"7 handsome cows eaten\",\n",
    "\"2nd dream\",\n",
    "\"7 ears on 1 stalk\",\n",
    "\"7 ears thin and scorched\",\n",
    "\"7 solid ears swallowed\",\n",
    "\"1 night (same)\",\n",
    "\"7 sturdy cows 7 other cows\",\n",
    "\"7 lean cows at the first\",\n",
    "\"7 ears, 7 thin, swallowed 7 healthy ears\",\n",
    "\"1 pharaoh's dreams are one and the same\",\n",
    "\"7 healthy cows 7 years 7 healthy ears 7 years 1 dream\",\n",
    "\"7 ugly cows 7 years 7 empty ears 7 years famine\",\n",
    "\"7 years of abundance\",\n",
    "\"7 years famine\",\n",
    "\"paamaim??\",\n",
    "\"7 years of plenty appoint someone\",\n",
    "\"7 famine years. have reserve\",\n",
    "\"30 yo Joseph when entered service of Pharaoh\",\n",
    "\"7 years the land produced in abundance\",\n",
    "\"7 years gathered all the grain and stored\",\n",
    "\"2 sons to Joseph before famine came\",\n",
    "\"bachor??(firstborn)\",\n",
    "\"2nd Ephraim\",\n",
    "\"7 years of abundance came to end\",\n",
    "\"7 years famine set in, but in Egypt bread\",\n",
    "\"1 - sons of the same man\",\n",
    "\"12 brothers 1 man - sons of the same man, 1 is no more\",\n",
    "\"1 of you go and bring brother\",\n",
    "\"3 days confined\",\n",
    "\"3rd day Joseph said do this, I fear God\",\n",
    "\"1 brothers stay in your place\",\n",
    "\"1 opened sack and saw money\",\n",
    "\"12 brothers 1 same father 1 no more\",\n",
    "\"1 leave with me\",\n",
    "\"2 sons Reuven you may kill\"]"
   ]
  },
  {
   "cell_type": "code",
   "execution_count": 54,
   "metadata": {},
   "outputs": [],
   "source": [
    "Vayigash_Descriptions = [\"2 sons Judah says that Jacob said\",\n",
    "\"1 gone from me \",\n",
    "\"(2??) - shnataim\",\n",
    "\"5 years to come with famine\",\n",
    "\"5 more years of famine\",\n",
    "\"300 pieces of silver to Benjamin and 5 clothing\",\n",
    "\"10 he-asses 10 she-asses\",\n",
    "\"beer sheva (and more will stop writing)\",\n",
    "\"33 male and femal ppl from Leah\",\n",
    "\"16 people from Zilpah\",\n",
    "\"14 people from Rachel\",\n",
    "\"7 people from Bilah\",\n",
    "\"66 total\",\n",
    "\"2 born to him in Egypt\",\n",
    "\"70 total\",\n",
    "\"130 years on earth Jacob\",\n",
    "\"2nd next year had nothing to pay with\",\n",
    "\"1/5th to Pharaoh and 4??? 4/5th will be yours\",\n",
    "\"5, 1/5th???mwill be pharaohs\"]"
   ]
  },
  {
   "cell_type": "code",
   "execution_count": 55,
   "metadata": {},
   "outputs": [],
   "source": [
    "Vayechi_Descriptions = [\"17 years Jacob in Egypt\",\n",
    "\"147 years Jacob's life\",\n",
    "\"2 sons went with Joseph to see father\",\n",
    "\"2 sons born in Egypt will be mine\",\n",
    "\"2 of them to Israel\",\n",
    "\"1 portion more than your brothers\",\n",
    "\"1 of the tribes of Israel (Dan)\",\n",
    "\"12 tribes of Israel\",\n",
    "\"40 days of embalming\",\n",
    "\"70 days Egyptians bewailed Jacob\",\n",
    "\"7 days mourning for his father\",\n",
    "\"110 years Joseph lived\",\n",
    "\"3rd generation of Ephraim Joseph saw\",\n",
    "\"110 years Joseph died\"]"
   ]
  },
  {
   "cell_type": "markdown",
   "metadata": {},
   "source": [
    "# Shemot Descriptions"
   ]
  },
  {
   "cell_type": "code",
   "execution_count": 56,
   "metadata": {},
   "outputs": [],
   "source": [
    "Shemot_Descriptions = [\"70 persons that were of Jacob's issue\",    \n",
    "\"1 of the midwives was Shiphrah and the 2nd was Puah\",\n",
    "\"3 months hid the son\",\n",
    "\"2nd (next) day and saw 2 hebrews fighting\",\n",
    "\"7 daughters priest of midian\",\n",
    "\"3 days into wilderness\",\n",
    "\"2 (both) signs\",\n",
    "\"3 days into the wilderness to sacrifice\"]"
   ]
  },
  {
   "cell_type": "code",
   "execution_count": 57,
   "metadata": {},
   "outputs": [],
   "source": [
    "Vayeira_Descriptions = [\"137 years of levi's life\",\n",
    "\"133 years of Kohath's life\",\n",
    "\"137 Amram's life\",\n",
    "\"80 yo Moshe and 83 yo Aaron when made demand to Pharaoh\",\n",
    "\"7 days passed after Hashem struck Nile\",\n",
    "\"3 days into the wilderness\",\n",
    "\"1 (not one) insect remained\",\n",
    "\"1 (not one) beast of Israelis died\",\n",
    "\"1 (not one) beast of Israelis died - Pharaoh inquired\"]"
   ]
  },
  {
   "cell_type": "code",
   "execution_count": 58,
   "metadata": {},
   "outputs": [],
   "source": [
    "Bo_Descriptions = [\"1 (not one) locust remained\",   \n",
    "\"3 days of darkness\",\n",
    "\"3 days no one could get up, except Israel\",\n",
    "\"1 more plague upon Pharaoh\",\n",
    "\"10th of the month take a lamb\",\n",
    "\"14th day will slaughter the goat\",\n",
    "\"2 doorposts\",\n",
    "\"7 days unleavened bread\",\n",
    "\"7th day (from the first (rishon))\",\n",
    "\"7th day will be sacred occasion (1st too)\",\n",
    "\"14th day of month until 21st day\",\n",
    "\"7 days no bread found in houses\",\n",
    "\"2 doorposts - dont go outside\",\n",
    "\"2 doorposts - pass over\",\n",
    "\"600,000 men on foot aside from children\",\n",
    "\"430 years in egypt\",\n",
    "\"430th year to the day they left\",\n",
    "\"1 house eat the flesh dont take it out\",\n",
    "\"1 law for the citizen and stranger\",\n",
    "\"7 days eat unleavened bread 7th day festival to hashem\",\n",
    "\"7 days no unleavened break eaten or found\"]"
   ]
  },
  {
   "cell_type": "code",
   "execution_count": 59,
   "metadata": {},
   "outputs": [],
   "source": [
    "Beshlach_Descriptions = [\"600 chariots\", \n",
    "\"1 (not one) of them remained\",\n",
    "\"3 days in the wilderness no water\",\n",
    "\"12 springs of water\",\n",
    "\"70 palm trees\",\n",
    "\"15th day of the 2nd month to wilderness of sin\",\n",
    "\"6th day double manna\",\n",
    "\"6thday 2 omers for 1 (each)\",\n",
    "\"6 days gather 7th day is shabbat\",\n",
    "\"7th day some people gathered\",\n",
    "\"6th day gives both portions, 7th day no one leave\",\n",
    "\"7th day people inactive\",\n",
    "\"1 hand 1 hand supported Aaron and Hur\"]"
   ]
  },
  {
   "cell_type": "code",
   "execution_count": 60,
   "metadata": {},
   "outputs": [],
   "source": [
    "Yitro_Descriptions = [\"2 sons- 1st Gershom and 1 other Eliezer\",    \n",
    "\"2 sons and wife and Yitro going to Moshe\",\n",
    "\"1000s, 100s, 50s, 10s, Yitro- appoint chiefs\",\n",
    "\"1000s, 100s, 50s, 10s Moshe found capable men\",\n",
    "\"3rd new moon entered wilderness of Sinai\",\n",
    "\"3rd day prepare, on 3rd day revelation\",\n",
    "\"3rd day dont go near a woman\",\n",
    "\"3rd day morning dawned thunder lightning\",\n",
    "\"3rd and 4th generations guilt\",\n",
    "\"1000th generation kindness\",\n",
    "\"6 days labor, 7th is shabbat\",\n",
    "\"6 days Hashem made everything 7th rested\"]"
   ]
  },
  {
   "cell_type": "code",
   "execution_count": 61,
   "metadata": {},
   "outputs": [],
   "source": [
    "Mishpatim_Descriptions = [\"6 years serve 7th year go free\",\n",
    "\"3 ways to fail wife\",\n",
    "\"30 shekels of silver\",\n",
    "\"5 oxen for the ox\",\n",
    "\"2(double) pay for the ox\",\n",
    "\"2(double) thief caught\",\n",
    "\"2 of them, guilty pay 2-double\",\n",
    "\"2 of them decide\",\n",
    "\"7 days cattle with mother, 8th day give to me\",\n",
    "\"6 years sow your land\",\n",
    "\"7th let it rest and lie fallow\",\n",
    "\"6 days do your work 7th day cease\",\n",
    "\"3 times a year be a festival\",\n",
    "\"7 days feast of unleavened bread\",\n",
    "\"3 times a year makes appear\",\n",
    "\"70 elders of Israel\",\n",
    "\"1 voice - everything Hashem says we will do\",\n",
    "\"12 pillars for the 12 tribes\",\n",
    "\"1/2 of the blood basins 1/2 against altar\",\n",
    "\"70 elders of Israel ascended\",\n",
    "\"6 days cloud hid 7th day called to Moses\",\n",
    "\"40 days and 40 nights on mountain\"]"
   ]
  },
  {
   "cell_type": "code",
   "execution_count": 62,
   "metadata": {},
   "outputs": [],
   "source": [
    "Terumah_Descriptions = [\".5 (amataim vhetzi), .5 wide, .5 high\",    \n",
    "\"4 rings 4 feet 2 rings 1 side 2 rings 2nd side\",\n",
    "\".5 ama long and .5 wide\",\n",
    "\"2 cherubin 2 ends of the cover\",\n",
    "\"1 cherub at this end 1 cherub other end, 2 ends\",\n",
    "\"2 cherubim\",\n",
    "\".5 ama\",\n",
    "\"4 rings 4 corners 4 legs\",\n",
    "\"6 branches 3 from 1 side 3 from 2nd side\",\n",
    "\"3 cups 1 branch 3 cups 1 branch 6 branches\",\n",
    "\"4 cups\",\n",
    "\"2 branches 2 branches 2 branches 6 branches\",\n",
    "\"1 piece menorah\",\n",
    "\"7 lamps\",\n",
    "\"1 (each) cloth 28 amas, 4 width, 1 each cloth 1 same measurements\",\n",
    "\"5 cloths 5 other cloths\",\n",
    "\"1 set 2nd set\",\n",
    "\"50 loops 1 cloth 50 loops 2nd set\",\n",
    "\"50 clasps 1 whole tabernacle\",\n",
    "\"11 cloths\",\n",
    "\"30 length cloth, 4 width, 1 each 1 measurement 11 cloths\",\n",
    "\"5 cloths 6 cloths 6th fold\",\n",
    "\"50 loops 1 set 50 loops 2nd set\",\n",
    "\"50 clasps 1 whole\",\n",
    "\".5 cloth half\",\n",
    "\"10 cubits .5 , 1 each\",\n",
    "\"2 tenons, 1 same\",\n",
    "\"20 planks south side\",\n",
    "\"40 sockets 20 planks 2 sockets 1 plank 2 tenons 2 sockets 1 each 2 tenons\",\n",
    "\"2nd wall 20 planks\",\n",
    "\"40 sockets 2 sockets 1 plank 2 sockets 1 plank\",\n",
    "\"6 planks\",\n",
    "\"2 planks\",\n",
    "\"1 ring 2 both 2 corners\",\n",
    "\"8 planks 16 sockets 2 sockets 1st plank 2 sock 1 each\",\n",
    "\"5 bars for 1 side\",\n",
    "\"5 bars 2nd side 5 bars\",\n",
    "\"4 posts 4 sockets\",\n",
    "\"5 posts 5 sockets\",\n",
    "\"5 cubits long 5 wide 3 high\",\n",
    "\"4 corners\",\n",
    "\"4 copper rings 4 corners\",\n",
    "\".5 middle of the altar\",\n",
    "\"2 sides of altar\",\n",
    "\"100 cubits 1 side\",\n",
    "\"20 posts 20 sockets\",\n",
    "\"100 ength 20 posts 20 sockets\",\n",
    "\"50 cubits 10 posts 10 sockets\",\n",
    "\"50 cubits\",\n",
    "\"15 3 posts 3 sockets\",\n",
    "\"2nd flank 15, 3 posts 3 sockets\",\n",
    "\"20 cubts 4 posts 4 sockets\",\n",
    "\"100 enclosure, 50 throughout 4 height\"]"
   ]
  },
  {
   "cell_type": "code",
   "execution_count": 63,
   "metadata": {},
   "outputs": [],
   "source": [
    "Tetzaveh_Descriptions = [\"2 shoulder-pieces attached at 2 ends\",\n",
    "\"2 lazuli stones\",\n",
    "\"6 names on 1 stone\",\n",
    "\"6 remaining names on 2nd stone\",\n",
    "\"2 stones make seal engravings\",\n",
    "\"2 stones carry on 2 shoulder pieces\",\n",
    "\"2 chains of pure gold\",\n",
    "\"4 rows of stones 1 row\",\n",
    "\"2nd row 3rd row 4th row\",\n",
    "\"12 stones 12 tribes\",\n",
    "\"2 rings, fasten 2 rings at 2 ends of breastpiece\",\n",
    "\"2 golden cords 2 rings\",\n",
    "\"2 ends of 2 cords 2 frames\",\n",
    "\"2 rigns 2 ends of breastpiece\",\n",
    "\"2 other rings on 2 shoulder pieces\",\n",
    "\"1 basket in with 2 rams\",\n",
    "\"2 kidneys with fat on them\",\n",
    "\"1 ram\",\n",
    "\"2nd ram\",\n",
    "\"2 kidneys\",\n",
    "\"1 loaf of bread, 1 cake, 1 wafer\",\n",
    "\"7 days wear priestly thing\",\n",
    "\"7 days ordain them\",\n",
    "\"7 days perform purification\",\n",
    "\"2 yearling lambs each day\",\n",
    "\"1 lamb in morning 2nd lamb twilight\",\n",
    "\"10(1/10) of a measure flour 4(1/4) hin\",\n",
    "\"4(1/4)hin wine, 1 lamb\",\n",
    "\"2nd lamb at twilight\",\n",
    "\"2?? amataim\",\n",
    "\"2 gold rings, 2 side, 2 opposite sides\",\n",
    "\"1nce a year purification, 1nce a year throughout ages\"]"
   ]
  },
  {
   "cell_type": "code",
   "execution_count": 64,
   "metadata": {},
   "outputs": [],
   "source": [
    "KiTissa_Descriptions = [\".5 shekel 20 gerahs .5 shekel\",\n",
    "\"20 years and up\",\n",
    "\".5 shekel\",\n",
    "\"500 myrrh, .5 , 50(twofifty?), 50(twofifty?)\",\n",
    "\"500 by sanctuary weight\",\n",
    "\"6 days work, 7th day Shabbat\",\n",
    "\"6 days Hashem made heaven and earth 7th day rested\",\n",
    "\"2 tablets of the pact\",\n",
    "\"2 tablets of pact inscribed on both services\",\n",
    "\"3000 people fell that day\",\n",
    "\"1 moment\",\n",
    "\"2 tablets of stone (rishonah?)\",\n",
    "\"2 tablets carved 2 stone tablets with him\",\n",
    "\"1000th generation chesed 3rd and 4th generations iniquity\",\n",
    "\"7 days unleavened bread\",\n",
    "\"6 days work 7th rest\",\n",
    "\"3 times a year\",\n",
    "\"40 days and 40 nights 10 commandments\",\n",
    "\"2 tablets coming down mountain\"]"
   ]
  },
  {
   "cell_type": "code",
   "execution_count": 65,
   "metadata": {},
   "outputs": [],
   "source": [
    "Vayakhel_Descriptions = [\"6 days work 7th shabbat\", \n",
    "\"10 strips of cloth\",\n",
    "\"1 each 28 amot length 1 each 4 cubits width\",\n",
    "\"5 cloths joined 1 to 1 and 5 other joined 1 to 1\",\n",
    "\"1 set 2nd set\",\n",
    "\"50 loops 1 cloth 50 loops 2nd cloth 1 opposite 1\",\n",
    "\"50 clasps 1 to another 1 tabernacle became 1 whole\",\n",
    "\"11 cloths\",\n",
    "\"1 each cloth 30 cubits, 4 w 1each 1 measurement 11\",\n",
    "\"5 cloths alone 6 cloths alone\",\n",
    "\"50 loops 50 on 2nd set\",\n",
    "\"50 clasps tent 1 whole\",\n",
    "\"10 length plank .5 (one and a half), 1each plank\",\n",
    "\"2 tenons 1 each plank 1 parallel to 1\",\n",
    "\"20 planks\",\n",
    "\"40 sockets, 20 planks, 2 sockets, 1 plank, 2 sockets, 2 tenons, 1 plank, 2 tenons\",\n",
    "\"2 other side 20 planks\",\n",
    "\"40 sockets 2 sockets 1 plank, 2 sockets 1 plank\",\n",
    "\"6 planks\",\n",
    "\"2 planks\",\n",
    "\"1 rink 2 both of them 2 corners\",\n",
    "\"8 planks 16 sockets 2 sockets 1 plank\",\n",
    "\"5 planks 1 side of wall\",\n",
    "\"5 bars 2 other side 5 bars\",\n",
    "\"4 posts 4 sockets\",\n",
    "\"5 posts 5 sockets\",\n",
    "\".5 (two and a half) .5 wide, .5 high\",\n",
    "\"4 gold rings, 4 feet, 2 on 1 side 2 on 2nd side\",\n",
    "\".5 (two and a half) cubit long .5 (1 and a half) wide\",\n",
    "\"2 cherubim, 2 ends\",\n",
    "\"1 cherub 1 cherub 2 ends\",\n",
    "\"(2 long) (1 wide) .5 (1.5) high\",\n",
    "\"4 rings 4 corners 4 legs\",\n",
    "\"6 branches from sides, 3 from 1 side, 3 fron 2nd side [37:18]\",\n",
    "\"3 cups 1 branch 3 cups 1 next branch 6 branches [37:19]\",\n",
    "\"4 cups [37:20]\",\n",
    "\"2 branches, 2 branches, 6 branches [37:21]\",\n",
    "\"1 hammered piece of gold [37:22]\",\n",
    "\"7 lamps [37:23]\",\n",
    "\"(lots of doubt) [37:25]\",\n",
    "\"2 gold rings 2 walls 2 opposite sides [37:27]\",\n",
    "\"5 long 5 wide 3 high [38:1]\",\n",
    "\"4 corners [38:2]\",\n",
    "\"4 rings 4 corners [38:5]\",\n",
    "\"100 cubits hanging linen [38:9]\",\n",
    "\"20 posts 20 sockets [38:10]\",\n",
    "\"100 on north 20 posts 20 sockets [38:11]\",\n",
    "\"50 c of hangings 10 posts 10 sockets [38:12]\",\n",
    "\"50 on front [38:13]\",\n",
    "\"15 c of hangings 3 posts 3 sockets [38:14]\",\n",
    "\"2 other flank 15 c 3 posts 3 sockets [38:15]\",\n",
    "\"20 long, 5 hight and width [38:18]\",\n",
    "\"4 posts, 4 sockets [38:19]\"]"
   ]
  },
  {
   "cell_type": "code",
   "execution_count": 66,
   "metadata": {},
   "outputs": [],
   "source": [
    "Pekudei_Descriptions = [\"29 talents 730 shekels [38:24]\",\n",
    "\"100 talents 1775 shekels [38:25]\",\n",
    "\".5 shekel 20 years old 603550 men [38:26]\",\n",
    "\"100 talents, 100 sockets 100 talents [38:27]\",\n",
    "\"1775 shekels into hooks [38:28]\",\n",
    "\"70 talents 2400 shekels [38:29]\",\n",
    "\"\"]"
   ]
  },
  {
   "cell_type": "markdown",
   "metadata": {},
   "source": [
    "# Vayikra Descriptions"
   ]
  },
  {
   "cell_type": "code",
   "execution_count": 67,
   "metadata": {},
   "outputs": [],
   "source": [
    "Vayikra_Descriptions = [\"2 kidneys [3:4]\",    \n",
    "\"2 kidneys [3:10]\",\n",
    "\"2 kidneys [3:15]\",\n",
    "\"1 does one negative mitzvah [4:2]\",\n",
    "\"7 sprinkle blood [4:6]\",\n",
    "\"2 kidneys [4:9]\",\n",
    "\"1 does one (any) negative mitzvah [4:13]\",\n",
    "\"7 sprinkle blood [4:17]\",\n",
    "\"(rishon) [4:21]\",\n",
    "\"1 does a negative mitzvah [4:22]\",\n",
    "\"1 any person does any 1 aveira [4:27]\",\n",
    "\"1 to one of them [5:4]\",\n",
    "\"1 of the matters [5:5]\",\n",
    "\"2 turtledoves, 2 pigeons, 1 sin offering, 1 burnt [5:7]\",\n",
    "\"2 second prepare [5:10]\",\n",
    "\"2 turtledoves 2 pigeons, .1 ephah [5:11]\",\n",
    "\"1 whichever sin [5:13]\",\n",
    "\"1 aveira [5:17]\",\n",
    "\"1 of the permitted things [5:22]\",\n",
    "\".2 add part to it [5:24]\",\n",
    "\"1 whatever sin forgiven [5:26]\"]"
   ]
  },
  {
   "cell_type": "code",
   "execution_count": 68,
   "metadata": {},
   "outputs": [],
   "source": [
    "Tzav_Descriptions = [\".1 tenth ephah .5 half in morning .5 in evening [6:13]\",    \n",
    "\"2 kidneys [7:4]\",\n",
    "\"1 same rule [7:7]\",\n",
    "\"1 of each kind [7:14]\",\n",
    "\"3 third day [7:17]\",\n",
    "\"3 eaten on the third day [7:18]\",\n",
    "\"2 rams [8:2]\",\n",
    "\"7 times sprinkled [8:11]\",\n",
    "\"2 kidneys [8:16]\",\n",
    "\"2 second ram of ordination [8:22]\",\n",
    "\"2 kidneys [8:25]\",\n",
    "\"1 matzah, 1 oil bread, 1 wafer [8:26]\",\n",
    "\"7 days dont go outside, 7 days ordination [8:33]\",\n",
    "\"7 days remain at entrance [8:35]\"]"
   ]
  },
  {
   "cell_type": "code",
   "execution_count": 69,
   "metadata": {},
   "outputs": [],
   "source": [
    "Shemini_Descriptions = [\"8th day mose called Aaron and sons and elders [9:1]\",\n",
    "\"4 swarming things that walk on fours treif [11:20]\",\n",
    "\"4 the ones you can eat that walk on fours [11:21]\",\n",
    "\"4 legs, all others are an abomination [11:23]\",\n",
    "\"4 walk on fours, animals that walk on paws [11:27]\",\n",
    "\"4 walks on fours dont eat [11:42]\"]"
   ]
  },
  {
   "cell_type": "code",
   "execution_count": 70,
   "metadata": {},
   "outputs": [],
   "source": [
    "Tazaria_Descriptions = [\"7 days unclean after bearing male [12:2]\",    \n",
    "\"8th day circumcised [12:3]\",\n",
    "\"33 days blood purification [12:4]\",\n",
    "\"(2 weeks? shavuataim) 66 days purification [12:5]\",\n",
    "\"2 turtledoves, 2 pigeons, 1 burnt, 1 sin offerings [12:8]\",\n",
    "\"1 of Aharons sons [13:2]\",\n",
    "\"7 days isolated affected person [13:4]\",\n",
    "\"7th day examine, 7 days 2nd time if unchanged [13:5]\",\n",
    "\"7th day 2nd time check again [13:6]\",\n",
    "\"2 present himself again to the cohen [13:7]\",\n",
    "\"7 days isolation [13:21]\",\n",
    "\"7 days isolation [13:26]\",\n",
    "\"7th day clean [13:27]\",\n",
    "\"7 days isolation scalp [13:31]\",\n",
    "\"7th day examine [13:32]\",\n",
    "\"7 days isolate 2nd time [13:33]\",\n",
    "\"7th day examine [13:34]\",\n",
    "\"7 days isolation [13:50]\",\n",
    "\"7th day examine [13:51]\",\n",
    "\"7th day isolate 2nd time [13:54]\",\n",
    "\"2 washed again affected cloth [13:58]\"]"
   ]
  },
  {
   "cell_type": "code",
   "execution_count": 71,
   "metadata": {},
   "outputs": [],
   "source": [
    "Metzora_Descriptions = [\"2 live clean birds [14:4]\",    \n",
    "\"1 of the birds kill [14:5]\",\n",
    "\"7 times sprinkle on him [14:7]\",\n",
    "\"7 days outside tent [14:8]\",\n",
    "\"7th day shave hair [14:9]\",\n",
    "\"8th day 2 lambs 1 ewe .3 flour, 1 log [14:10]\",\n",
    "\"1 lamb [14:12]\",\n",
    "\"7 sprinkles oil [14:16]\",\n",
    "\"1 lamb .1 flour 1 log?, if poor [14:21]\",\n",
    "\"2 turtledoves 2 pigeons 1 sin offering 1 burnt [14:22]\",\n",
    "\"8th day bring them [14:23]\",\n",
    "\"7 times sprinkle [14:27]\",\n",
    "\"1 of turtledoves or pigeons [14:30]\",\n",
    "\"1 sin offering and 1 burnt offering [14:31]\",\n",
    "\"7 days house closed [14:38]\",\n",
    "\"7th day check again [14:39]\",\n",
    "\"2 birds [14:49]\",\n",
    "\"1 bird slaughter [14:50]\",\n",
    "\"7 sprinkles on the house [14:51]\",\n",
    "\"7 days for cleansing [15:13]\",\n",
    "\"8th day take 2 turtledoves 2 pigeons [15:14]\",\n",
    "\"1 sin offering 1 burnt [15:15]\",\n",
    "\"7 days niddah [15:19]\",\n",
    "\"7 days man unclean if sleeps with niddah [15:24]\",\n",
    "\"7 days after discharge [15:28]\",\n",
    "\"8th day 2 turtledoves 2 pigeons [15:29]\",\n",
    "\"1 sin offering 1 burnt offering [15:30]\"]"
   ]
  },
  {
   "cell_type": "code",
   "execution_count": 72,
   "metadata": {},
   "outputs": [],
   "source": [
    "AchareiMot_Descriptions = [\"2 sons of Aharon who died [16:1]\",    \n",
    "\"2 goats for sin offering 1 goat for burnt [16:5]\",\n",
    "\"2 goats [16:7]\",\n",
    "\"2 goats, 1 for hashem 1 for azazel [16:8]\",\n",
    "\"7 times sprinkle [16:14]\",\n",
    "\"7 times sprinkle [16:19]\",\n",
    "\"2 both hands [16:21]\",\n",
    "\"7th month 10th day self denial [16:29]**\",\n",
    "\"1 once a year attonement [16:34]\"]"
   ]
  },
  {
   "cell_type": "code",
   "execution_count": 73,
   "metadata": {},
   "outputs": [],
   "source": [
    "Kedoshim_Descriptions = [\"3rd day food left must be burnt [19:6]\",    \n",
    "\"3rd day dont eat it [19:7]\",\n",
    "\"3 years cant eat the fruit, orlah [19:23]\",\n",
    "\"4th year fruit set aside [19:24]\",\n",
    "\"5th year you can use it [19:25]\",\n",
    "\"2 (shneihem) put to death, man with father wife [20:11]\",\n",
    "\"2 (shneihem) put to death, man with daughet in law [20:12]\",\n",
    "\"2 (shneihem) put to death, man with man [20:13]\",\n",
    "\"2 (shneihem) cut off, man with niddah [20:18]\"]"
   ]
  },
  {
   "cell_type": "code",
   "execution_count": 74,
   "metadata": {},
   "outputs": [],
   "source": [
    "Emor_Descriptions = [\"1/5 of its value if eats accidentally [22:14]\",   \n",
    "\"7 days ox or sheep or goat w mom, 8th day offering [22:27]\",\n",
    "\"1 same day slaughtered animal w young [22:28]\",\n",
    "\"6 days work 7th shabbat [23:3]\",\n",
    "\"14th day of the month (rishon?) [23:5]\",\n",
    "\"15th day pesach 7 days [23:6]\",\n",
    "\"(rishon) [23:7]\",\n",
    "\"7 days offering. 7th day sacred [23:8]\",\n",
    "\"(reshit)\",\n",
    "\".2 flour .25 hin [23:13]\",\n",
    "\"7 weeks count off [23:15]\",\n",
    "\"7th week after, 50 days [23:16]\",\n",
    "\"2 floaves .2 flour [23:17]\",\n",
    "\"7 lambs 1 bull, 2 rams [23:18]\",\n",
    "\"1 goat, 2 lambs [23:19]\",\n",
    "\"2 lambs [23:20]\",\n",
    "\"7th month, 1st day [23:24]\",\n",
    "\"10th day 7th month [23:27]\",\n",
    "\"9th day of the month [23:32]\",\n",
    "\"15th day of 7th month sukkot 7 days [23:34]\",\n",
    "\"7 days offerings, 8th day sacred occasion [23:36]\",\n",
    "\"15th day 7th month holiday 7 days 8th day chag [23:39]\",\n",
    "\"7 days rejoice [23:40]\",\n",
    "\"7 days in the year 7th month [23:41]\",\n",
    "\"7 days live in sukkot [23:42]\",\n",
    "\"12 loaves .2 measure for 1 each loaf [24:5]\",\n",
    "\"2 rows, 6 per row [24:6]\",\n",
    "\"1 standard for everyone [24:22]\"]"
   ]
  },
  {
   "cell_type": "code",
   "execution_count": 75,
   "metadata": {},
   "outputs": [],
   "source": [
    "Behar_Descriptions = [\"6 yrs sow 6 yrs prune [25:3]\",\n",
    "\"7th year shabbat [25:4]\",\n",
    "\"7 weeks of years, 7 times 7 years, 7 wks,49 years [25:8]\",\n",
    "\"7th mth 10th day [25:9]\",\n",
    "\"50th year jubilee [25:10]\",\n",
    "\"50th year [25:11]\",\n",
    "\"7th yr what to eat [25:20]\",\n",
    "\"6th yr blessing 3 yrs lasts [25:21]\",\n",
    "\"8th yr sow eat in 9th yr [25:22]\",\n",
    "\"1 of his kinsmen redeem [25:48]\"]"
   ]
  },
  {
   "cell_type": "code",
   "execution_count": null,
   "metadata": {},
   "outputs": [],
   "source": [
    "Behukotai_Descriptions = [\"5 chase 100, 100 chase 10,000 [26:8]\",    \n",
    "\"7fold discipline [26:18]\",\n",
    "\"7fold for sins [26:21]\",\n",
    "\"7fold [26:24]\",\n",
    "\"10 women bake 1 oven [26:26]\",\n",
    "\"7 fold [26:28]\",\n",
    "\"20 - 60 yrs equiv 50 shekel [27:3]\",\n",
    "\"30 shek female [27:4]\",\n",
    "\"5 - 20, 20 shek male 10*** (aseret not asarah below) shek female [27:5]\",\n",
    "\"5 yrs until, 5 shek male 3 shek female [27:6]\",\n",
    "\"60 and up, 15 male 10 female (asarah) [27:7]\",\n",
    "\"1/5 add to assessment [27:13]\",\n",
    "\"1/5 redeem house [27:15]\",\n",
    "\"50 shek barley [27:16]\",\n",
    "\"1/5 land [27:19]\",\n",
    "\"20 gera is shekel [27:25]\",\n",
    "\"1/5 unclean animal [27:27]\",\n",
    "\"1/5 redeem tithes [27:31]\",\n",
    "\"10th of flock given to Hashem [27:32]\",\n",
    "\"\"]"
   ]
  }
 ],
 "metadata": {
  "kernelspec": {
   "display_name": "Python 3",
   "language": "python",
   "name": "python3"
  },
  "language_info": {
   "codemirror_mode": {
    "name": "ipython",
    "version": 3
   },
   "file_extension": ".py",
   "mimetype": "text/x-python",
   "name": "python",
   "nbconvert_exporter": "python",
   "pygments_lexer": "ipython3",
   "version": "3.7.1"
  }
 },
 "nbformat": 4,
 "nbformat_minor": 2
}
